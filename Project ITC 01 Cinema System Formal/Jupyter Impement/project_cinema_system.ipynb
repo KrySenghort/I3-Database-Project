{
 "cells": [
  {
   "attachments": {},
   "cell_type": "markdown",
   "metadata": {},
   "source": [
    "# <p style='text-align:center'><font color = green|>Cinema Database System Project "
   ]
  },
  {
   "cell_type": "code",
   "execution_count": 2,
   "metadata": {},
   "outputs": [],
   "source": [
    "import pandas as pd\n",
    "import sqlite3 as sq"
   ]
  },
  {
   "cell_type": "code",
   "execution_count": 2,
   "metadata": {},
   "outputs": [],
   "source": [
    "# We will sqlite3 library and create a connection\n",
    "cnn = sq.connect('jupyter_sql_tutorial.db')\n",
    "# df.to_sql('people', cnn)\n",
    "%load_ext sql\n",
    "%sql sqlite:///jupyter_sql_tutorial.db"
   ]
  },
  {
   "attachments": {},
   "cell_type": "markdown",
   "metadata": {},
   "source": [
    "### <font color = green|><b>I.) Create Table"
   ]
  },
  {
   "attachments": {},
   "cell_type": "markdown",
   "metadata": {},
   "source": [
    "```\n",
    "Movie Table\n",
    "```"
   ]
  },
  {
   "cell_type": "code",
   "execution_count": 3,
   "metadata": {},
   "outputs": [
    {
     "name": "stdout",
     "output_type": "stream",
     "text": [
      " * sqlite:///jupyter_sql_tutorial.db\n",
      "Done.\n"
     ]
    },
    {
     "data": {
      "text/plain": [
       "[]"
      ]
     },
     "execution_count": 3,
     "metadata": {},
     "output_type": "execute_result"
    }
   ],
   "source": [
    "%%sql\n",
    "CREATE TABLE Movie(\n",
    "    movieID INT AUTO_INCREMENT PRIMARY KEY NOT NULL,\n",
    "    movieName VARCHAR(200) NOT NULL,\n",
    "    movieType VARCHAR(300) NOT NULL,                   \n",
    "    movieReleaseDate DATE NOT NULL,\n",
    "    movieDuration TIME NOT NULL,\n",
    "    movieRating FLOAT NOT NULL,\n",
    "    movieDescription VARCHAR(400)\n",
    ");"
   ]
  },
  {
   "attachments": {},
   "cell_type": "markdown",
   "metadata": {},
   "source": [
    "```\n",
    "Theater Table\n",
    "```"
   ]
  },
  {
   "cell_type": "code",
   "execution_count": 4,
   "metadata": {},
   "outputs": [
    {
     "name": "stdout",
     "output_type": "stream",
     "text": [
      " * sqlite:///jupyter_sql_tutorial.db\n",
      "Done.\n"
     ]
    },
    {
     "data": {
      "text/plain": [
       "[]"
      ]
     },
     "execution_count": 4,
     "metadata": {},
     "output_type": "execute_result"
    }
   ],
   "source": [
    "%%sql\n",
    "CREATE TABLE Theater(\n",
    "    theaterID INT AUTO_INCREMENT PRIMARY KEY NOT NULL,\n",
    "    theaterName VARCHAR(60) NOT NULL,\n",
    "    theaterCapacity INT,\n",
    "    theaterAddress VARCHAR(70) NOT NULL,\n",
    "    theaterOpenTime TIME NOT NULL,\n",
    "    theaterCloseTime TIME NOT NULL\n",
    ");"
   ]
  },
  {
   "attachments": {},
   "cell_type": "markdown",
   "metadata": {},
   "source": [
    "```\n",
    "Scheduled Table\n",
    "```"
   ]
  },
  {
   "cell_type": "code",
   "execution_count": 5,
   "metadata": {},
   "outputs": [
    {
     "name": "stdout",
     "output_type": "stream",
     "text": [
      " * sqlite:///jupyter_sql_tutorial.db\n",
      "Done.\n"
     ]
    },
    {
     "data": {
      "text/plain": [
       "[]"
      ]
     },
     "execution_count": 5,
     "metadata": {},
     "output_type": "execute_result"
    }
   ],
   "source": [
    "%%sql\n",
    "CREATE TABLE Scheduled(\n",
    "    showMovieID INT AUTO_INCREMENT PRIMARY KEY NOT NULL, \n",
    "    movieID INT NOT NULL,\n",
    "    theaterID INT NOT NULL,\n",
    "    showMovieDate DATETIME NOT NULL,\n",
    "    FOREIGN KEY(theaterID) REFERENCES Theater(theaterID),\n",
    "    FOREIGN KEY(movieID) REFERENCES Movie(movieID)\n",
    ");"
   ]
  },
  {
   "attachments": {},
   "cell_type": "markdown",
   "metadata": {},
   "source": [
    "```\n",
    "Customer Table\n",
    "```"
   ]
  },
  {
   "cell_type": "code",
   "execution_count": 6,
   "metadata": {},
   "outputs": [
    {
     "name": "stdout",
     "output_type": "stream",
     "text": [
      " * sqlite:///jupyter_sql_tutorial.db\n",
      "Done.\n"
     ]
    },
    {
     "data": {
      "text/plain": [
       "[]"
      ]
     },
     "execution_count": 6,
     "metadata": {},
     "output_type": "execute_result"
    }
   ],
   "source": [
    "%%sql\n",
    "CREATE TABLE Customer(\n",
    "    customerID INT AUTO_INCREMENT PRIMARY KEY NOT NULL,\n",
    "    customerName VARCHAR(50) NOT NULL,\n",
    "    customerGender CHAR,\n",
    "    customerAge INT NOT NULL,\n",
    "    customerEmail VARCHAR(45),\n",
    "    customerPhone VARCHAR(30) NOT NULL\n",
    ");"
   ]
  },
  {
   "attachments": {},
   "cell_type": "markdown",
   "metadata": {},
   "source": [
    "```\n",
    "Ticket_booking Table\n",
    "```"
   ]
  },
  {
   "cell_type": "code",
   "execution_count": 7,
   "metadata": {},
   "outputs": [
    {
     "name": "stdout",
     "output_type": "stream",
     "text": [
      " * sqlite:///jupyter_sql_tutorial.db\n",
      "Done.\n"
     ]
    },
    {
     "data": {
      "text/plain": [
       "[]"
      ]
     },
     "execution_count": 7,
     "metadata": {},
     "output_type": "execute_result"
    }
   ],
   "source": [
    "%%sql \n",
    "CREATE TABLE Ticket_booking(\n",
    "    ticketID INT AUTO_INCREMENT PRIMARY KEY NOT NULL,\n",
    "    customerID INT NOT NULL,\n",
    "    showMovieID INT NOT NULL,\n",
    "    price FLOAT NOT NULL,\n",
    "    FOREIGN KEY(customerID) REFERENCES Customer(customerID),\n",
    "    FOREIGN KEY(showMovieID) REFERENCES Scheduled(showMovieID)\n",
    ");"
   ]
  },
  {
   "cell_type": "code",
   "execution_count": 22,
   "metadata": {},
   "outputs": [
    {
     "name": "stdout",
     "output_type": "stream",
     "text": [
      " * sqlite:///jupyter_sql_tutorial.db\n",
      "Done.\n"
     ]
    },
    {
     "data": {
      "text/html": [
       "<table>\n",
       "    <thead>\n",
       "        <tr>\n",
       "            <th>movieID</th>\n",
       "            <th>movieName</th>\n",
       "            <th>movieType</th>\n",
       "            <th>movieReleaseDate</th>\n",
       "            <th>movieDuration</th>\n",
       "            <th>movieRating</th>\n",
       "            <th>movieDescription</th>\n",
       "        </tr>\n",
       "    </thead>\n",
       "    <tbody>\n",
       "    </tbody>\n",
       "</table>"
      ],
      "text/plain": [
       "[]"
      ]
     },
     "execution_count": 22,
     "metadata": {},
     "output_type": "execute_result"
    }
   ],
   "source": [
    "%%sql \n",
    "SELECT * FROM movie;"
   ]
  },
  {
   "cell_type": "code",
   "execution_count": 29,
   "metadata": {},
   "outputs": [
    {
     "name": "stdout",
     "output_type": "stream",
     "text": [
      " * sqlite:///jupyter_sql_tutorial.db\n",
      "Done.\n"
     ]
    },
    {
     "data": {
      "text/html": [
       "<table>\n",
       "    <thead>\n",
       "        <tr>\n",
       "            <th>theaterID</th>\n",
       "            <th>theaterName</th>\n",
       "            <th>theaterCapacity</th>\n",
       "            <th>theaterAddress</th>\n",
       "            <th>theaterOpenTime</th>\n",
       "            <th>theaterCloseTime</th>\n",
       "        </tr>\n",
       "    </thead>\n",
       "    <tbody>\n",
       "    </tbody>\n",
       "</table>"
      ],
      "text/plain": [
       "[]"
      ]
     },
     "execution_count": 29,
     "metadata": {},
     "output_type": "execute_result"
    }
   ],
   "source": [
    "%%sql \n",
    "SELECT * FROM theater;"
   ]
  },
  {
   "cell_type": "code",
   "execution_count": 31,
   "metadata": {},
   "outputs": [
    {
     "name": "stdout",
     "output_type": "stream",
     "text": [
      " * sqlite:///jupyter_sql_tutorial.db\n",
      "Done.\n"
     ]
    },
    {
     "data": {
      "text/html": [
       "<table>\n",
       "    <thead>\n",
       "        <tr>\n",
       "            <th>showMovieID</th>\n",
       "            <th>movieID</th>\n",
       "            <th>theaterID</th>\n",
       "            <th>showMovieDate</th>\n",
       "        </tr>\n",
       "    </thead>\n",
       "    <tbody>\n",
       "    </tbody>\n",
       "</table>"
      ],
      "text/plain": [
       "[]"
      ]
     },
     "execution_count": 31,
     "metadata": {},
     "output_type": "execute_result"
    }
   ],
   "source": [
    "%%sql \n",
    "SELECT * FROM Scheduled;"
   ]
  },
  {
   "cell_type": "code",
   "execution_count": 30,
   "metadata": {},
   "outputs": [
    {
     "name": "stdout",
     "output_type": "stream",
     "text": [
      " * sqlite:///jupyter_sql_tutorial.db\n",
      "Done.\n"
     ]
    },
    {
     "data": {
      "text/html": [
       "<table>\n",
       "    <thead>\n",
       "        <tr>\n",
       "            <th>ticketID</th>\n",
       "            <th>customerID</th>\n",
       "            <th>showMovieID</th>\n",
       "            <th>price</th>\n",
       "        </tr>\n",
       "    </thead>\n",
       "    <tbody>\n",
       "    </tbody>\n",
       "</table>"
      ],
      "text/plain": [
       "[]"
      ]
     },
     "execution_count": 30,
     "metadata": {},
     "output_type": "execute_result"
    }
   ],
   "source": [
    "%%sql \n",
    "SELECT * FROM Ticket_booking;"
   ]
  },
  {
   "cell_type": "code",
   "execution_count": 32,
   "metadata": {},
   "outputs": [
    {
     "name": "stdout",
     "output_type": "stream",
     "text": [
      " * sqlite:///jupyter_sql_tutorial.db\n",
      "Done.\n"
     ]
    },
    {
     "data": {
      "text/html": [
       "<table>\n",
       "    <thead>\n",
       "        <tr>\n",
       "            <th>customerID</th>\n",
       "            <th>customerName</th>\n",
       "            <th>customerGender</th>\n",
       "            <th>customerAge</th>\n",
       "            <th>customerEmail</th>\n",
       "            <th>customerPhone</th>\n",
       "        </tr>\n",
       "    </thead>\n",
       "    <tbody>\n",
       "    </tbody>\n",
       "</table>"
      ],
      "text/plain": [
       "[]"
      ]
     },
     "execution_count": 32,
     "metadata": {},
     "output_type": "execute_result"
    }
   ],
   "source": [
    "%%sql \n",
    "SELECT * FROM Customer;"
   ]
  },
  {
   "cell_type": "code",
   "execution_count": 3,
   "metadata": {},
   "outputs": [
    {
     "data": {
      "text/html": [
       "<div>\n",
       "<style scoped>\n",
       "    .dataframe tbody tr th:only-of-type {\n",
       "        vertical-align: middle;\n",
       "    }\n",
       "\n",
       "    .dataframe tbody tr th {\n",
       "        vertical-align: top;\n",
       "    }\n",
       "\n",
       "    .dataframe thead th {\n",
       "        text-align: right;\n",
       "    }\n",
       "</style>\n",
       "<table border=\"1\" class=\"dataframe\">\n",
       "  <thead>\n",
       "    <tr style=\"text-align: right;\">\n",
       "      <th></th>\n",
       "      <th>movieName</th>\n",
       "      <th>movieType</th>\n",
       "      <th>movieReleaseDate</th>\n",
       "      <th>movieDuration</th>\n",
       "      <th>movieRating</th>\n",
       "      <th>movieDescription</th>\n",
       "    </tr>\n",
       "  </thead>\n",
       "  <tbody>\n",
       "    <tr>\n",
       "      <th>0</th>\n",
       "      <td>The Avengers</td>\n",
       "      <td>Action</td>\n",
       "      <td>2020-05-22</td>\n",
       "      <td>02:30:00</td>\n",
       "      <td>8.5</td>\n",
       "      <td>Earth's mightiest heroes team up to save the w...</td>\n",
       "    </tr>\n",
       "    <tr>\n",
       "      <th>1</th>\n",
       "      <td>Titanic</td>\n",
       "      <td>Romance</td>\n",
       "      <td>1997-12-19</td>\n",
       "      <td>03:15:00</td>\n",
       "      <td>7.8</td>\n",
       "      <td>A tragic love story set aboard the RMS Titanic.</td>\n",
       "    </tr>\n",
       "    <tr>\n",
       "      <th>2</th>\n",
       "      <td>Inception</td>\n",
       "      <td>Sci-Fi</td>\n",
       "      <td>2010-07-16</td>\n",
       "      <td>02:28:00</td>\n",
       "      <td>8.8</td>\n",
       "      <td>A thief enters people's dreams to steal inform...</td>\n",
       "    </tr>\n",
       "    <tr>\n",
       "      <th>3</th>\n",
       "      <td>The Lion King</td>\n",
       "      <td>Animation</td>\n",
       "      <td>1994-06-24</td>\n",
       "      <td>01:29:00</td>\n",
       "      <td>8.5</td>\n",
       "      <td>A young lion prince must reclaim his throne.</td>\n",
       "    </tr>\n",
       "    <tr>\n",
       "      <th>4</th>\n",
       "      <td>The Dark Knight</td>\n",
       "      <td>Action</td>\n",
       "      <td>2008-07-18</td>\n",
       "      <td>02:32:00</td>\n",
       "      <td>9.0</td>\n",
       "      <td>Batman faces off against the Joker.</td>\n",
       "    </tr>\n",
       "    <tr>\n",
       "      <th>5</th>\n",
       "      <td>Frozen</td>\n",
       "      <td>Animation</td>\n",
       "      <td>2013-11-27</td>\n",
       "      <td>01:42:00</td>\n",
       "      <td>7.5</td>\n",
       "      <td>A fearless princess sets off on a journey to f...</td>\n",
       "    </tr>\n",
       "    <tr>\n",
       "      <th>6</th>\n",
       "      <td>Jurassic Park</td>\n",
       "      <td>Adventure</td>\n",
       "      <td>1993-06-11</td>\n",
       "      <td>02:07:00</td>\n",
       "      <td>8.1</td>\n",
       "      <td>Scientists create a theme park with geneticall...</td>\n",
       "    </tr>\n",
       "    <tr>\n",
       "      <th>7</th>\n",
       "      <td>Avatar</td>\n",
       "      <td>Sci-Fi</td>\n",
       "      <td>2009-12-18</td>\n",
       "      <td>02:42:00</td>\n",
       "      <td>7.8</td>\n",
       "      <td>A paralyzed marine is sent to the planet Pando...</td>\n",
       "    </tr>\n",
       "    <tr>\n",
       "      <th>8</th>\n",
       "      <td>Finding Nemo</td>\n",
       "      <td>Animation</td>\n",
       "      <td>2003-05-30</td>\n",
       "      <td>01:40:00</td>\n",
       "      <td>8.1</td>\n",
       "      <td>A clownfish embarks on a journey to find his son.</td>\n",
       "    </tr>\n",
       "    <tr>\n",
       "      <th>9</th>\n",
       "      <td>Pulp Fiction</td>\n",
       "      <td>Crime</td>\n",
       "      <td>1994-10-14</td>\n",
       "      <td>02:34:00</td>\n",
       "      <td>8.9</td>\n",
       "      <td>Interconnected stories of criminals in Los Ang...</td>\n",
       "    </tr>\n",
       "    <tr>\n",
       "      <th>10</th>\n",
       "      <td>The Shawshank Redemption</td>\n",
       "      <td>Drama</td>\n",
       "      <td>1994-09-23</td>\n",
       "      <td>02:22:00</td>\n",
       "      <td>9.3</td>\n",
       "      <td>Two imprisoned men bond over several years, fi...</td>\n",
       "    </tr>\n",
       "    <tr>\n",
       "      <th>11</th>\n",
       "      <td>Interstellar</td>\n",
       "      <td>Sci-Fi</td>\n",
       "      <td>2014-11-07</td>\n",
       "      <td>02:49:00</td>\n",
       "      <td>8.6</td>\n",
       "      <td>A group of explorers travel through a wormhole...</td>\n",
       "    </tr>\n",
       "    <tr>\n",
       "      <th>12</th>\n",
       "      <td>The Godfather</td>\n",
       "      <td>Crime</td>\n",
       "      <td>1972-03-24</td>\n",
       "      <td>02:55:00</td>\n",
       "      <td>9.2</td>\n",
       "      <td>The aging patriarch of an organized crime dyna...</td>\n",
       "    </tr>\n",
       "    <tr>\n",
       "      <th>13</th>\n",
       "      <td>The Matrix</td>\n",
       "      <td>Sci-Fi</td>\n",
       "      <td>1999-03-31</td>\n",
       "      <td>02:16:00</td>\n",
       "      <td>8.7</td>\n",
       "      <td>A computer hacker learns about the true nature...</td>\n",
       "    </tr>\n",
       "    <tr>\n",
       "      <th>14</th>\n",
       "      <td>Forrest Gump</td>\n",
       "      <td>Drama</td>\n",
       "      <td>1994-07-06</td>\n",
       "      <td>02:22:00</td>\n",
       "      <td>8.8</td>\n",
       "      <td>A simple man experiences firsthand some of the...</td>\n",
       "    </tr>\n",
       "    <tr>\n",
       "      <th>15</th>\n",
       "      <td>The Lord of the Rings: The Fellowship of the Ring</td>\n",
       "      <td>Fantasy</td>\n",
       "      <td>2001-12-19</td>\n",
       "      <td>02:58:00</td>\n",
       "      <td>8.8</td>\n",
       "      <td>A hobbit sets out on a journey to destroy a po...</td>\n",
       "    </tr>\n",
       "    <tr>\n",
       "      <th>16</th>\n",
       "      <td>Toy Story</td>\n",
       "      <td>Animation</td>\n",
       "      <td>1995-11-22</td>\n",
       "      <td>01:21:00</td>\n",
       "      <td>8.3</td>\n",
       "      <td>Toys come to life when humans are not present.</td>\n",
       "    </tr>\n",
       "    <tr>\n",
       "      <th>17</th>\n",
       "      <td>Inglourious Basterds</td>\n",
       "      <td>War</td>\n",
       "      <td>2009-08-21</td>\n",
       "      <td>02:33:00</td>\n",
       "      <td>8.3</td>\n",
       "      <td>A group of Jewish U.S. soldiers plan to assass...</td>\n",
       "    </tr>\n",
       "    <tr>\n",
       "      <th>18</th>\n",
       "      <td>The Avengers: Endgame</td>\n",
       "      <td>Action</td>\n",
       "      <td>2019-04-26</td>\n",
       "      <td>03:01:00</td>\n",
       "      <td>8.4</td>\n",
       "      <td>The Avengers assemble for one final showdown a...</td>\n",
       "    </tr>\n",
       "    <tr>\n",
       "      <th>19</th>\n",
       "      <td>The Social Network</td>\n",
       "      <td>Drama</td>\n",
       "      <td>2010-10-01</td>\n",
       "      <td>02:00:00</td>\n",
       "      <td>7.7</td>\n",
       "      <td>The story of the creation of Facebook.</td>\n",
       "    </tr>\n",
       "    <tr>\n",
       "      <th>20</th>\n",
       "      <td>The Silence of the Lambs</td>\n",
       "      <td>Thriller</td>\n",
       "      <td>1991-02-14</td>\n",
       "      <td>01:58:00</td>\n",
       "      <td>8.6</td>\n",
       "      <td>An FBI trainee seeks the help of a manipulativ...</td>\n",
       "    </tr>\n",
       "  </tbody>\n",
       "</table>\n",
       "</div>"
      ],
      "text/plain": [
       "                                            movieName  movieType  \\\n",
       "0                                        The Avengers     Action   \n",
       "1                                             Titanic    Romance   \n",
       "2                                           Inception     Sci-Fi   \n",
       "3                                       The Lion King  Animation   \n",
       "4                                     The Dark Knight     Action   \n",
       "5                                              Frozen  Animation   \n",
       "6                                       Jurassic Park  Adventure   \n",
       "7                                              Avatar     Sci-Fi   \n",
       "8                                        Finding Nemo  Animation   \n",
       "9                                        Pulp Fiction      Crime   \n",
       "10                           The Shawshank Redemption      Drama   \n",
       "11                                       Interstellar     Sci-Fi   \n",
       "12                                      The Godfather      Crime   \n",
       "13                                         The Matrix     Sci-Fi   \n",
       "14                                       Forrest Gump      Drama   \n",
       "15  The Lord of the Rings: The Fellowship of the Ring    Fantasy   \n",
       "16                                          Toy Story  Animation   \n",
       "17                               Inglourious Basterds        War   \n",
       "18                              The Avengers: Endgame     Action   \n",
       "19                                 The Social Network      Drama   \n",
       "20                           The Silence of the Lambs   Thriller   \n",
       "\n",
       "   movieReleaseDate movieDuration  movieRating  \\\n",
       "0        2020-05-22      02:30:00          8.5   \n",
       "1        1997-12-19      03:15:00          7.8   \n",
       "2        2010-07-16      02:28:00          8.8   \n",
       "3        1994-06-24      01:29:00          8.5   \n",
       "4        2008-07-18      02:32:00          9.0   \n",
       "5        2013-11-27      01:42:00          7.5   \n",
       "6        1993-06-11      02:07:00          8.1   \n",
       "7        2009-12-18      02:42:00          7.8   \n",
       "8        2003-05-30      01:40:00          8.1   \n",
       "9        1994-10-14      02:34:00          8.9   \n",
       "10       1994-09-23      02:22:00          9.3   \n",
       "11       2014-11-07      02:49:00          8.6   \n",
       "12       1972-03-24      02:55:00          9.2   \n",
       "13       1999-03-31      02:16:00          8.7   \n",
       "14       1994-07-06      02:22:00          8.8   \n",
       "15       2001-12-19      02:58:00          8.8   \n",
       "16       1995-11-22      01:21:00          8.3   \n",
       "17       2009-08-21      02:33:00          8.3   \n",
       "18       2019-04-26      03:01:00          8.4   \n",
       "19       2010-10-01      02:00:00          7.7   \n",
       "20       1991-02-14      01:58:00          8.6   \n",
       "\n",
       "                                     movieDescription  \n",
       "0   Earth's mightiest heroes team up to save the w...  \n",
       "1     A tragic love story set aboard the RMS Titanic.  \n",
       "2   A thief enters people's dreams to steal inform...  \n",
       "3        A young lion prince must reclaim his throne.  \n",
       "4                 Batman faces off against the Joker.  \n",
       "5   A fearless princess sets off on a journey to f...  \n",
       "6   Scientists create a theme park with geneticall...  \n",
       "7   A paralyzed marine is sent to the planet Pando...  \n",
       "8   A clownfish embarks on a journey to find his son.  \n",
       "9   Interconnected stories of criminals in Los Ang...  \n",
       "10  Two imprisoned men bond over several years, fi...  \n",
       "11  A group of explorers travel through a wormhole...  \n",
       "12  The aging patriarch of an organized crime dyna...  \n",
       "13  A computer hacker learns about the true nature...  \n",
       "14  A simple man experiences firsthand some of the...  \n",
       "15  A hobbit sets out on a journey to destroy a po...  \n",
       "16     Toys come to life when humans are not present.  \n",
       "17  A group of Jewish U.S. soldiers plan to assass...  \n",
       "18  The Avengers assemble for one final showdown a...  \n",
       "19             The story of the creation of Facebook.  \n",
       "20  An FBI trainee seeks the help of a manipulativ...  "
      ]
     },
     "execution_count": 3,
     "metadata": {},
     "output_type": "execute_result"
    }
   ],
   "source": [
    "sheetid = '1ytdqI93_efnNYrK3h9LMPbD4PpBro9L3kEHK0290T8w'\n",
    "df = pd.read_csv(f\"https://docs.google.com/spreadsheets/d/{sheetid}/export?format=csv\")\n",
    "df"
   ]
  },
  {
   "cell_type": "code",
   "execution_count": 4,
   "metadata": {},
   "outputs": [],
   "source": [
    "df.to_csv('movie.csv')"
   ]
  },
  {
   "cell_type": "code",
   "execution_count": null,
   "metadata": {},
   "outputs": [],
   "source": []
  }
 ],
 "metadata": {
  "kernelspec": {
   "display_name": "Python 3",
   "language": "python",
   "name": "python3"
  },
  "language_info": {
   "codemirror_mode": {
    "name": "ipython",
    "version": 3
   },
   "file_extension": ".py",
   "mimetype": "text/x-python",
   "name": "python",
   "nbconvert_exporter": "python",
   "pygments_lexer": "ipython3",
   "version": "3.9.7"
  },
  "orig_nbformat": 4
 },
 "nbformat": 4,
 "nbformat_minor": 2
}
