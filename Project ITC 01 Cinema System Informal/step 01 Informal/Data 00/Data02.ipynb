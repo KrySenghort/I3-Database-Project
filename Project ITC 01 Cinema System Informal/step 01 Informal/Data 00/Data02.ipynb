{
 "cells": [
  {
   "attachments": {},
   "cell_type": "markdown",
   "metadata": {},
   "source": [
    "## <p style= 'text-align:center'><font color = green|>Data Pattern of Cinema Management System "
   ]
  },
  {
   "attachments": {},
   "cell_type": "markdown",
   "metadata": {},
   "source": [
    "### <font color = green|>Theater Data"
   ]
  },
  {
   "attachments": {},
   "cell_type": "markdown",
   "metadata": {},
   "source": [
    "Sure! Here's an example of generated data for the \"Theater\" table with attributes (Id, name, type, capacity, price):\n",
    "\n",
    "| Id | Name          | Type       | Capacity | Price |\n",
    "|----|---------------|------------|----------|-------|\n",
    "| 1  | Regal Cinema  | Multiplex  | 200      | $10   |\n",
    "| 2  | AMC Theatres  | IMAX       | 150      | $12   |\n",
    "| 3  | Cinemark      | Standard   | 180      | $8    |\n",
    "| 4  | Odeon Cinema  | Multiplex  | 250      | $11   |\n",
    "| 5  | Cineplex      | IMAX       | 300      | $13   |\n",
    "| 6  | Vue Cinemas   | Standard   | 120      | $7    |\n",
    "| 7  | Showcase      | Multiplex  | 180      | $10   |\n",
    "| 8  | Galaxy Theater| IMAX       | 140      | $12   |\n",
    "| 9  | Cineworld     | Standard   | 200      | $9    |\n",
    "| 10 | Landmark      | Multiplex  | 250      | $11   |\n",
    "| ...| ...           | ...        | ...      | ...   |\n",
    "\n",
    "Please note that this is just a sample data and the values are randomly generated. In a real-world scenario, the data would be based on actual theaters and their corresponding attributes."
   ]
  },
  {
   "attachments": {},
   "cell_type": "markdown",
   "metadata": {},
   "source": [
    "### <font color = green|>Staff Data"
   ]
  },
  {
   "attachments": {},
   "cell_type": "markdown",
   "metadata": {},
   "source": [
    "Certainly! Here's an example of generated data for the \"Staff\" table with attributes (Id, Name, Gender, Position, PhoneNumber, Email, StaffId):\n",
    "\n",
    "| Id | Name          | Gender | Position      | PhoneNumber   | Email                    | \n",
    "|----|---------------|--------|---------------|----------------|--------------------------|\n",
    "| 1  | Sarah Davis   | Female | Ticket Seller | 456-789-0123   | sarah.davis@example.com  |\n",
    "| 2  | Mark Johnson  | Male   | Usher         | 789-012-3456   | mark.johnson@example.com |\n",
    "| 3  | Emma Wilson   | Female | Concessionaire| 234-567-8901   | emma.wilson@example.com  |\n",
    "| 4  | David Thompson| Male   | Usher         | 567-890-1234   | david.thompson@example.com|\n",
    "| 5  | Jessica Adams | Female | Ticket Seller | 789-012-3456   | jessica.adams@example.com|\n",
    "| 6  | Robert Brown  | Male   | Usher         | 901-234-5678   | robert.brown@example.com |\n",
    "| 7  | Olivia Moore  | Female | Concessionaire| 345-678-9012   | olivia.moore@example.com |\n",
    "| 8  | William Clark | Male   | Usher         | 678-901-2345   | william.clark@example.com|\n",
    "| 9  | Sophia Hall   | Female | Ticket Seller | 890-123-4567   | sophia.hall@example.com  |\n",
    "| 10 | Daniel Lee    | Male   | Usher         | 123-456-7890   | daniel.lee@example.com   |\n",
    "| ...| ...           | ...    | ...           | ...            | ...                      |\n",
    "\n",
    "Please note that this is just a sample data and the values are randomly generated. In a real-world scenario, the data would be based on actual staff members and their corresponding attributes."
   ]
  },
  {
   "attachments": {},
   "cell_type": "markdown",
   "metadata": {},
   "source": [
    "### <font color = green|>Customer Data"
   ]
  },
  {
   "attachments": {},
   "cell_type": "markdown",
   "metadata": {},
   "source": [
    "Certainly! Here's an example of generated data for the \"Customer\" table with attributes (Id, Name, Sex, Age, Phone_Number):\n",
    "\n",
    "| Id | Name           | Sex    | Age | Phone_Number  |\n",
    "|----|----------------|--------|-----|---------------|\n",
    "| 1  | Emily Wilson   | Female | 25  | 345-678-9012  |\n",
    "| 2  | Michael Brown  | Male   | 32  | 678-901-2345  |\n",
    "| 3  | Sophia Davis   | Female | 28  | 901-234-5678  |\n",
    "| 4  | Benjamin Johnson| Male   | 41  | 234-567-8901  |\n",
    "| 5  | Olivia Thompson| Female | 30  | 890-123-4567  |\n",
    "| 6  | Ethan Clark    | Male   | 27  | 456-789-0123  |\n",
    "| 7  | Ava Wilson     | Female | 35  | 789-012-3456  |\n",
    "| 8  | Noah Hall      | Male   | 29  | 123-456-7890  |\n",
    "| 9  | Sophia Adams   | Female | 24  | 567-890-1234  |\n",
    "| 10 | Liam Moore     | Male   | 31  | 901-234-5678  |\n",
    "| ...| ...            | ...    | ... | ...           |\n",
    "\n",
    "Please note that this is just a sample data and the values are randomly generated. In a real-world scenario, the data would be based on actual customers and their corresponding attributes."
   ]
  },
  {
   "attachments": {},
   "cell_type": "markdown",
   "metadata": {},
   "source": [
    "### <font color = green|>Movie Ticket Data"
   ]
  },
  {
   "attachments": {},
   "cell_type": "markdown",
   "metadata": {},
   "source": [
    "Certainly! Here's an example of generated data for the \"Movie_ticket\" table with attributes (Id, theater_id, Movie_id, date_time, customer_id):\n",
    "\n",
    "| Id | theater_id | Movie_id | date_time           |\n",
    "|----|------------|----------|---------------------|\n",
    "| 1  | 1          | 1        | 2023-05-23 18:00:00 | \n",
    "| 2  | 2          | 2        | 2023-05-23 19:30:00 | \n",
    "| 3  | 1          | 1        | 2023-05-24 20:00:00 | \n",
    "| 4  | 3          | 3        | 2023-05-24 21:30:00 | \n",
    "| 5  | 2          | 2        | 2023-05-25 18:00:00 | \n",
    "| 6  | 1          | 4        | 2023-05-25 19:30:00 | \n",
    "| 7  | 3          | 3        | 2023-05-26 20:00:00 | \n",
    "| 8  | 2          | 5        | 2023-05-26 21:30:00 | \n",
    "| 9  | 1          | 4        | 2023-05-27 18:00:00 | \n",
    "| 10 | 3          | 6        | 2023-05-27 19:30:00 | \n",
    "| ...| ...        | ...      | ...                 | \n",
    "\n",
    "Please note that this is just a sample data and the values are randomly generated. In a real-world scenario, the data would be based on actual movie tickets purchased by customers and their corresponding attributes such as theater_id, Movie_id, date_time, and customer_id."
   ]
  },
  {
   "attachments": {},
   "cell_type": "markdown",
   "metadata": {},
   "source": [
    "### <font color = green|>Movie Data"
   ]
  },
  {
   "attachments": {},
   "cell_type": "markdown",
   "metadata": {},
   "source": [
    "Certainly! Here's an example of generated data for the \"Movie\" table with attributes (Id, Name, Release_date, Duration):\n",
    "\n",
    "| Id | Name              | Release_date | Duration |\n",
    "|----|-------------------|--------------|----------|\n",
    "| 1  | Avengers: Endgame | 2019-04-26   | 181      |\n",
    "| 2  | The Lion King     | 2019-07-19   | 118      |\n",
    "| 3  | Spider-Man: Far From Home | 2019-07-02 | 129  |\n",
    "| 4  | Joker             | 2019-10-04   | 122      |\n",
    "| 5  | Inception         | 2010-07-16   | 148      |\n",
    "| 6  | Black Panther     | 2018-02-16   | 134      |\n",
    "| 7  | The Dark Knight   | 2008-07-18   | 152      |\n",
    "| 8  | Titanic           | 1997-12-19   | 195      |\n",
    "| 9  | Avatar            | 2009-12-18   | 162      |\n",
    "| 10 | Toy Story 4       | 2019-06-21   | 100      |\n",
    "| ...| ...               | ...          | ...      |\n",
    "\n",
    "Please note that this is just a sample data and the values are randomly generated. In a real-world scenario, the data would be based on actual movies and their corresponding attributes such as Name, Release_date, and Duration."
   ]
  },
  {
   "attachments": {},
   "cell_type": "markdown",
   "metadata": {},
   "source": [
    "### <font color = green|>Schedule Data"
   ]
  },
  {
   "attachments": {},
   "cell_type": "markdown",
   "metadata": {},
   "source": [
    "Certainly! Here's an example of generated data for the \"schedule\" table with attributes (Id, theater_id, Movie_id, date_time):\n",
    "\n",
    "| Id | theater_id | Movie_id | date_time           |\n",
    "|----|------------|----------|---------------------|\n",
    "| 1  | 1          | 1        | 2023-05-23 18:00:00 |\n",
    "| 2  | 2          | 2        | 2023-05-23 19:30:00 |\n",
    "| 3  | 1          | 1        | 2023-05-24 20:00:00 |\n",
    "| 4  | 3          | 3        | 2023-05-24 21:30:00 |\n",
    "| 5  | 2          | 2        | 2023-05-25 18:00:00 |\n",
    "| 6  | 1          | 4        | 2023-05-25 19:30:00 |\n",
    "| 7  | 3          | 3        | 2023-05-26 20:00:00 |\n",
    "| 8  | 2          | 5        | 2023-05-26 21:30:00 |\n",
    "| 9  | 1          | 4        | 2023-05-27 18:00:00 |\n",
    "| 10 | 3          | 6        | 2023-05-27 19:30:00 |\n",
    "| ...| ...        | ...      | ...                 |\n",
    "\n",
    "Please note that this is just a sample data and the values are randomly generated. In a real-world scenario, the data would be based on actual schedules for movies in theaters and their corresponding attributes such as theater_id, Movie_id, and date_time."
   ]
  },
  {
   "attachments": {},
   "cell_type": "markdown",
   "metadata": {},
   "source": []
  }
 ],
 "metadata": {
  "language_info": {
   "name": "python"
  },
  "orig_nbformat": 4
 },
 "nbformat": 4,
 "nbformat_minor": 2
}
